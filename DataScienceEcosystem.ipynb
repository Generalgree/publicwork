{
 "cells": [
  {
   "cell_type": "markdown",
   "id": "6d76c13f-12b0-48c2-bcc3-7e7973cdeab0",
   "metadata": {
    "panel-layout": {
     "height": 60.5938,
     "visible": true,
     "width": 100
    }
   },
   "source": [
    "# Data Science Tools and Ecosystem"
   ]
  },
  {
   "cell_type": "markdown",
   "id": "341e6dd3-b08e-4b97-ba7c-da2b4519692f",
   "metadata": {},
   "source": [
    "## Author\n",
    "Nathaniel Corcoran"
   ]
  },
  {
   "cell_type": "markdown",
   "id": "41ce982c-02b0-4707-9692-bd3d2e35faac",
   "metadata": {
    "panel-layout": {
     "height": 51.1354,
     "visible": true,
     "width": 100
    }
   },
   "source": [
    "In this notebok, Data Science Tools and Ecosystem are summarized."
   ]
  },
  {
   "cell_type": "markdown",
   "id": "3eb07cd3-f625-4d9c-b25c-77bde048b376",
   "metadata": {},
   "source": [
    "Objectives:\n",
    "* List popular languages for Data Science\n",
    "* List commonly used libraries for Data Scientists\n",
    "* List Data Science Tools\n",
    "* Demonstrate arithetic expressions of Python"
   ]
  },
  {
   "cell_type": "markdown",
   "id": "682fa39d-6df5-4619-b3f6-56dedee53939",
   "metadata": {
    "panel-layout": {
     "height": 200.219,
     "visible": true,
     "width": 100
    }
   },
   "source": [
    "Some of the popular languages that Data Scientists use are:\n",
    "1. Rlanguage\n",
    "2. Python\n",
    "3. Java\n",
    "4. Julia\n",
    "5. SQL\n",
    "6. Scala\n",
    "7. Acorn C/C++\n",
    "8. Swift"
   ]
  },
  {
   "cell_type": "markdown",
   "id": "fd128468-4ae4-464f-b1b6-012ce36be5d2",
   "metadata": {
    "panel-layout": {
     "height": 200.219,
     "visible": true,
     "width": 100
    }
   },
   "source": [
    "Some of the commonly used libraries used by Data Scientists include:\n",
    "1. NumPy\n",
    "2. Pandas\n",
    "3. Matplotlib\n",
    "4. TensorFlow\n",
    "5. Scikit-learn\n",
    "6. SciPy\n",
    "7. Seaborn\n",
    "8. Plotly"
   ]
  },
  {
   "cell_type": "markdown",
   "id": "a3b7722c-2cf0-448b-9ac9-16e47c005065",
   "metadata": {
    "panel-layout": {
     "height": 94.0729,
     "visible": true,
     "width": 100
    }
   },
   "source": [
    "|Data Science Tools|\n",
    "|---|\n",
    "|Apache Spark|\n",
    "|RStudio|\n",
    "|TensorFlow|\n"
   ]
  },
  {
   "cell_type": "markdown",
   "id": "e0a99d95-f1a8-4fc5-b0b2-91e38c0c4a90",
   "metadata": {
    "panel-layout": {
     "height": 80.2708,
     "visible": true,
     "width": 100
    }
   },
   "source": [
    "### Below are a few examples of evaluating arithmetic expressions in Python"
   ]
  },
  {
   "cell_type": "code",
   "execution_count": 1,
   "id": "b9eab671-cd96-4b20-a5a7-561a757847ce",
   "metadata": {
    "panel-layout": {
     "height": 27.135417938232422,
     "visible": true,
     "width": 100
    }
   },
   "outputs": [
    {
     "data": {
      "text/plain": [
       "17"
      ]
     },
     "execution_count": 1,
     "metadata": {},
     "output_type": "execute_result"
    }
   ],
   "source": [
    "# This is a simple arithmetic expression to multiply then add integers\n",
    "(3*4)+5"
   ]
  },
  {
   "cell_type": "code",
   "execution_count": 7,
   "id": "46a38777-7bbf-403e-80cf-a7cbf65e6558",
   "metadata": {},
   "outputs": [
    {
     "name": "stdout",
     "output_type": "stream",
     "text": [
      "3 hours, 20 minutes\n"
     ]
    }
   ],
   "source": [
    "# This will convert 200 minutes to hours by dividing by 60\n",
    "hours, minutes = divmod(200, 60)\n",
    "print(f\"{hours} hours, {minutes} minutes\")"
   ]
  }
 ],
 "metadata": {
  "kernelspec": {
   "display_name": "Python 3 (ipykernel)",
   "language": "python",
   "name": "python3"
  },
  "language_info": {
   "codemirror_mode": {
    "name": "ipython",
    "version": 3
   },
   "file_extension": ".py",
   "mimetype": "text/x-python",
   "name": "python",
   "nbconvert_exporter": "python",
   "pygments_lexer": "ipython3",
   "version": "3.13.5"
  },
  "panel-cell-order": [
   "6d76c13f-12b0-48c2-bcc3-7e7973cdeab0",
   "41ce982c-02b0-4707-9692-bd3d2e35faac",
   "682fa39d-6df5-4619-b3f6-56dedee53939",
   "fd128468-4ae4-464f-b1b6-012ce36be5d2",
   "a3b7722c-2cf0-448b-9ac9-16e47c005065",
   "e0a99d95-f1a8-4fc5-b0b2-91e38c0c4a90",
   "b9eab671-cd96-4b20-a5a7-561a757847ce"
  ]
 },
 "nbformat": 4,
 "nbformat_minor": 5
}
